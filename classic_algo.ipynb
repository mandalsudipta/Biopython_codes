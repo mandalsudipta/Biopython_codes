{
  "nbformat": 4,
  "nbformat_minor": 0,
  "metadata": {
    "colab": {
      "provenance": [],
      "authorship_tag": "ABX9TyNhAJdbCWuGGZvsz88vuUHT"
    },
    "kernelspec": {
      "name": "python3",
      "display_name": "Python 3"
    },
    "language_info": {
      "name": "python"
    }
  },
  "cells": [
    {
      "cell_type": "code",
      "execution_count": 3,
      "metadata": {
        "colab": {
          "base_uri": "https://localhost:8080/"
        },
        "id": "EgCUlNIQUU04",
        "outputId": "c03fe019-b862-4259-92e8-9c1e115c11a1"
      },
      "outputs": [
        {
          "output_type": "stream",
          "name": "stdout",
          "text": [
            "Pattern found at index 2: GTAC\n"
          ]
        }
      ],
      "source": [
        "from Bio.Seq import Seq\n",
        "\n",
        "def fast_align(sequence, pattern):\n",
        "    n = len(sequence)\n",
        "    m = len(pattern)\n",
        "\n",
        "    # Check all possible alignments\n",
        "    for i in range(n - m + 1):\n",
        "        if sequence[i:i+m] == pattern:\n",
        "            return i, sequence[i:i+m]\n",
        "\n",
        "    return -1, None\n",
        "\n",
        "# Example DNA sequence and pattern\n",
        "sequence = Seq(\"ACGTACGTACGTACGTACGT\")\n",
        "pattern = Seq(\"GTAC\")\n",
        "\n",
        "# Perform fast alignment\n",
        "index, aligned_seq = fast_align(sequence, pattern)\n",
        "\n",
        "if index != -1:\n",
        "    print(f\"Pattern found at index {index}: {aligned_seq}\")\n",
        "else:\n",
        "    print(\"Pattern not found\")\n",
        "\n"
      ]
    },
    {
      "cell_type": "code",
      "source": [
        "!pip install biopython\n",
        "\n"
      ],
      "metadata": {
        "colab": {
          "base_uri": "https://localhost:8080/"
        },
        "id": "FmtoU3EpUlR3",
        "outputId": "1fab8a6e-c02e-4241-d896-3ee1e28cd675"
      },
      "execution_count": 2,
      "outputs": [
        {
          "output_type": "stream",
          "name": "stdout",
          "text": [
            "Collecting biopython\n",
            "  Downloading biopython-1.84-cp310-cp310-manylinux_2_17_x86_64.manylinux2014_x86_64.whl.metadata (12 kB)\n",
            "Requirement already satisfied: numpy in /usr/local/lib/python3.10/dist-packages (from biopython) (1.26.4)\n",
            "Downloading biopython-1.84-cp310-cp310-manylinux_2_17_x86_64.manylinux2014_x86_64.whl (3.2 MB)\n",
            "\u001b[2K   \u001b[90m━━━━━━━━━━━━━━━━━━━━━━━━━━━━━━━━━━━━━━━━\u001b[0m \u001b[32m3.2/3.2 MB\u001b[0m \u001b[31m28.8 MB/s\u001b[0m eta \u001b[36m0:00:00\u001b[0m\n",
            "\u001b[?25hInstalling collected packages: biopython\n",
            "Successfully installed biopython-1.84\n"
          ]
        }
      ]
    }
  ]
}