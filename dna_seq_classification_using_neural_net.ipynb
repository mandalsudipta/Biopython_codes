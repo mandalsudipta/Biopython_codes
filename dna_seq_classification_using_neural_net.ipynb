{
  "nbformat": 4,
  "nbformat_minor": 0,
  "metadata": {
    "colab": {
      "provenance": [],
      "gpuType": "T4",
      "authorship_tag": "ABX9TyNwRXVzAXb4ygfTvvjzzoxy",
      "include_colab_link": true
    },
    "kernelspec": {
      "name": "python3",
      "display_name": "Python 3"
    },
    "language_info": {
      "name": "python"
    },
    "accelerator": "GPU"
  },
  "cells": [
    {
      "cell_type": "markdown",
      "metadata": {
        "id": "view-in-github",
        "colab_type": "text"
      },
      "source": [
        "<a href=\"https://colab.research.google.com/github/mandalsudipta/Biopython_codes/blob/main/dna_seq_classification_using_neural_net.ipynb\" target=\"_parent\"><img src=\"https://colab.research.google.com/assets/colab-badge.svg\" alt=\"Open In Colab\"/></a>"
      ]
    },
    {
      "cell_type": "code",
      "execution_count": 1,
      "metadata": {
        "colab": {
          "base_uri": "https://localhost:8080/"
        },
        "id": "DEA1yyuqmeK2",
        "outputId": "7d2a4737-701c-4cb8-938d-1f668a431436"
      },
      "outputs": [
        {
          "output_type": "stream",
          "name": "stdout",
          "text": [
            "Model: \"sequential\"\n",
            "_________________________________________________________________\n",
            " Layer (type)                Output Shape              Param #   \n",
            "=================================================================\n",
            " embedding (Embedding)       (None, 10, 8)             40        \n",
            "                                                                 \n",
            " conv1d (Conv1D)             (None, 8, 32)             800       \n",
            "                                                                 \n",
            " max_pooling1d (MaxPooling1  (None, 4, 32)             0         \n",
            " D)                                                              \n",
            "                                                                 \n",
            " flatten (Flatten)           (None, 128)               0         \n",
            "                                                                 \n",
            " dense (Dense)               (None, 64)                8256      \n",
            "                                                                 \n",
            " dense_1 (Dense)             (None, 1)                 65        \n",
            "                                                                 \n",
            "=================================================================\n",
            "Total params: 9161 (35.79 KB)\n",
            "Trainable params: 9161 (35.79 KB)\n",
            "Non-trainable params: 0 (0.00 Byte)\n",
            "_________________________________________________________________\n",
            "Epoch 1/10\n",
            "3/3 - 6s - loss: 0.6962 - accuracy: 0.4000 - 6s/epoch - 2s/step\n",
            "Epoch 2/10\n",
            "3/3 - 0s - loss: 0.6835 - accuracy: 1.0000 - 23ms/epoch - 8ms/step\n",
            "Epoch 3/10\n",
            "3/3 - 0s - loss: 0.6719 - accuracy: 1.0000 - 25ms/epoch - 8ms/step\n",
            "Epoch 4/10\n",
            "3/3 - 0s - loss: 0.6601 - accuracy: 1.0000 - 23ms/epoch - 8ms/step\n",
            "Epoch 5/10\n",
            "3/3 - 0s - loss: 0.6488 - accuracy: 1.0000 - 31ms/epoch - 10ms/step\n",
            "Epoch 6/10\n",
            "3/3 - 0s - loss: 0.6338 - accuracy: 1.0000 - 27ms/epoch - 9ms/step\n",
            "Epoch 7/10\n",
            "3/3 - 0s - loss: 0.6193 - accuracy: 1.0000 - 23ms/epoch - 8ms/step\n",
            "Epoch 8/10\n",
            "3/3 - 0s - loss: 0.5993 - accuracy: 1.0000 - 26ms/epoch - 9ms/step\n",
            "Epoch 9/10\n",
            "3/3 - 0s - loss: 0.5781 - accuracy: 1.0000 - 25ms/epoch - 8ms/step\n",
            "Epoch 10/10\n",
            "3/3 - 0s - loss: 0.5527 - accuracy: 1.0000 - 22ms/epoch - 7ms/step\n",
            "1/1 [==============================] - 0s 91ms/step\n",
            "Predictions: [[0.55276066]\n",
            " [0.39644262]]\n"
          ]
        }
      ],
      "source": [
        "import numpy as np\n",
        "from keras.models import Sequential\n",
        "from keras.layers import Dense, Conv1D, MaxPooling1D, Flatten, Embedding\n",
        "from keras.preprocessing.text import Tokenizer\n",
        "from keras.preprocessing.sequence import pad_sequences\n",
        "\n",
        "# Sample DNA sequences\n",
        "sequences = [\n",
        "    \"ATCGTACGTA\",\n",
        "    \"CGTAGCTAGC\",\n",
        "    \"TACGTAGCTA\",\n",
        "    \"GCTAGCTAGC\",\n",
        "    \"TAGCTAGCTA\"\n",
        "]\n",
        "\n",
        "# Sample labels (0 or 1 for binary classification)\n",
        "labels = [0, 1, 0, 1, 0]\n",
        "\n",
        "# Tokenize the DNA sequences\n",
        "tokenizer = Tokenizer(char_level=True)  # Character-level tokenization\n",
        "tokenizer.fit_on_texts(sequences)\n",
        "encoded_sequences = tokenizer.texts_to_sequences(sequences)\n",
        "\n",
        "# Pad sequences to the same length\n",
        "max_len = max([len(seq) for seq in encoded_sequences])\n",
        "X = pad_sequences(encoded_sequences, maxlen=max_len, padding='post')\n",
        "\n",
        "# Convert labels to a numpy array\n",
        "y = np.array(labels)\n",
        "\n",
        "# Define the model\n",
        "model = Sequential()\n",
        "\n",
        "# Embedding layer (optional, for converting sequences to dense vectors)\n",
        "model.add(Embedding(input_dim=len(tokenizer.word_index) + 1, output_dim=8, input_length=max_len))\n",
        "\n",
        "# Convolutional layer\n",
        "model.add(Conv1D(filters=32, kernel_size=3, activation='relu'))\n",
        "\n",
        "# Max pooling layer\n",
        "model.add(MaxPooling1D(pool_size=2))\n",
        "\n",
        "# Flatten the output of the convolutional layers\n",
        "model.add(Flatten())\n",
        "\n",
        "# Dense layer\n",
        "model.add(Dense(64, activation='relu'))\n",
        "\n",
        "# Output layer (for binary classification)\n",
        "model.add(Dense(1, activation='sigmoid'))\n",
        "\n",
        "# Compile the model\n",
        "model.compile(optimizer='adam', loss='binary_crossentropy', metrics=['accuracy'])\n",
        "\n",
        "# Summary of the model\n",
        "model.summary()\n",
        "\n",
        "# Train the model (with dummy data here, normally you'd use a large dataset)\n",
        "model.fit(X, y, epochs=10, batch_size=2, verbose=2)\n",
        "\n",
        "# Predict on new sequences\n",
        "new_sequences = [\"GCTAGCTAGC\", \"ATCGTACGTA\"]\n",
        "encoded_new_sequences = tokenizer.texts_to_sequences(new_sequences)\n",
        "X_new = pad_sequences(encoded_new_sequences, maxlen=max_len, padding='post')\n",
        "predictions = model.predict(X_new)\n",
        "\n",
        "print(\"Predictions:\", predictions)\n"
      ]
    }
  ]
}